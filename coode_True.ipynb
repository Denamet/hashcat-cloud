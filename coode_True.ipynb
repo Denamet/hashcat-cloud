{
  "nbformat": 4,
  "nbformat_minor": 0,
  "metadata": {
    "colab": {
      "name": "Untitled0.ipynb",
      "provenance": [],
      "authorship_tag": "ABX9TyO0SEijUfsbnlD+kFebERxe",
      "include_colab_link": true
    },
    "kernelspec": {
      "name": "python3",
      "display_name": "Python 3"
    },
    "language_info": {
      "name": "python"
    }
  },
  "cells": [
    {
      "cell_type": "markdown",
      "metadata": {
        "id": "view-in-github",
        "colab_type": "text"
      },
      "source": [
        "<a href=\"https://colab.research.google.com/github/Denamet/hashcat-cloud/blob/main/coode_True.ipynb\" target=\"_parent\"><img src=\"https://colab.research.google.com/assets/colab-badge.svg\" alt=\"Open In Colab\"/></a>"
      ]
    },
    {
      "cell_type": "code",
      "metadata": {
        "id": "P4rkCbM2hrgp"
      },
      "source": [
        "#Install of hashcat\n",
        "print(\"Installation of hashcat...\")\n",
        "!apt install cmake build-essential -y\n",
        "!apt install checkinstall git -y\n",
        "!git clone https://github.com/hashcat/hashcat.git && cd hashcat && make -j 8 && make install\n",
        "\n",
        "# install Rockyou password list\n",
        "!printf \"[+] Downloading the Rockyou wordlist...\\n\"\n",
        "!mkdir tools\n",
        "!cd tools\n",
        "!wget https://download.weakpass.com/wordlists/90/rockyou.txt.gz\n",
        "!gzip -dk rockyou.txt.gz\n",
        "!pip install kora\n",
        "from kora import console\n",
        "console.start()  # and click link"
      ],
      "execution_count": null,
      "outputs": []
    }
  ]
}