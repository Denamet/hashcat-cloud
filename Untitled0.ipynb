{
  "nbformat": 4,
  "nbformat_minor": 0,
  "metadata": {
    "colab": {
      "name": "Untitled0.ipynb",
      "provenance": [],
      "collapsed_sections": [],
      "authorship_tag": "ABX9TyNs2XIvspUjt9ZKZoHP/gK1",
      "include_colab_link": true
    },
    "kernelspec": {
      "name": "python3",
      "display_name": "Python 3"
    }
  },
  "cells": [
    {
      "cell_type": "markdown",
      "metadata": {
        "id": "view-in-github",
        "colab_type": "text"
      },
      "source": [
        "<a href=\"https://colab.research.google.com/github/Denamet/hashcat-cloud/blob/main/Untitled0.ipynb\" target=\"_parent\"><img src=\"https://colab.research.google.com/assets/colab-badge.svg\" alt=\"Open In Colab\"/></a>"
      ]
    },
    {
      "cell_type": "code",
      "metadata": {
        "id": "l4ZiCUCFnElX"
      },
      "source": [
        "#Install of hashcat\n",
        "print(\"Installation of hashcat...\")\n",
        "!apt install cmake build-essential -y\n",
        "!apt install checkinstall git -y\n",
        "!git clone https://github.com/hashcat/hashcat.git && cd hashcat && make -j 8 && make install\n",
        "\n",
        "# install Rockyou password list\n",
        "!printf \"[+] Downloading the Rockyou wordlist...\\n\"\n",
        "!cd $wordlists_dir && wget https://download.weakpass.com/wordlists/90/rockyou.txt.gz\n",
        "!printf \"[+] Wordlist downloaded !\\n[+] Extraction...\\n\"\n",
        "!cd $wordlists_dir && gunzip rockyou.txt.gz\n",
        "!printf \"[+] Finished !\\n[+] Location : $(pwd)/$wordlists_dir/$(ls wordlists | grep rockyou)\"\n",
        "\n",
        "# run bash in google colab\n",
        "!pip install kora\n",
        "from kora import console\n",
        "console.start()  # and click link"
      ],
      "execution_count": null,
      "outputs": []
    }
  ]
}